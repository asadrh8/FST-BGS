{
 "cells": [
  {
   "cell_type": "code",
   "execution_count": 1,
   "id": "3d33af35-407c-423b-b5ca-97f36b75cd82",
   "metadata": {},
   "outputs": [
    {
     "name": "stdout",
     "output_type": "stream",
     "text": [
      "Solution: [2.12719012 4.52493781]\n"
     ]
    }
   ],
   "source": [
    "from scipy.optimize import fsolve\n",
    " \n",
    "def equations(vars):\n",
    "    x, y = vars\n",
    "    eq1 = x**2 + y**2 - 25\n",
    "    eq2 = x**2 - y\n",
    "    return [eq1, eq2]\n",
    " \n",
    "initial_guess = [1, 1]\n",
    "solution = fsolve(equations, initial_guess)\n",
    "print(\"Solution:\", solution)"
   ]
  }
 ],
 "metadata": {
  "kernelspec": {
   "display_name": "Python 3 (ipykernel)",
   "language": "python",
   "name": "python3"
  },
  "language_info": {
   "codemirror_mode": {
    "name": "ipython",
    "version": 3
   },
   "file_extension": ".py",
   "mimetype": "text/x-python",
   "name": "python",
   "nbconvert_exporter": "python",
   "pygments_lexer": "ipython3",
   "version": "3.12.2"
  }
 },
 "nbformat": 4,
 "nbformat_minor": 5
}
