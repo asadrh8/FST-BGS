{
 "cells": [
  {
   "cell_type": "code",
   "execution_count": 1,
   "id": "f7faca65-c8be-45fe-88af-08f2b21291f9",
   "metadata": {},
   "outputs": [],
   "source": [
    "# Deprecated code from when figuring out Buffalo and Kern 2024 method\n",
    "import theory\n",
    "import theory2\n",
    "import numpy"
   ]
  },
  {
   "cell_type": "code",
   "execution_count": null,
   "id": "6de35b0d-f1a7-4117-9611-617dca8a888a",
   "metadata": {},
   "outputs": [],
   "source": [
    "# Create function that calculates B map across chromosomal segment with length L_total and total recombination rate R\n",
    "# to account for interference among deleterious alleles\n",
    "def Ne_rescale(L_total, L, R, mu, sh, N):\n",
    "\n",
    "    # Assuming that r_bp is sufficiently small such that it is additive\n",
    "    rbp = R / L_total\n",
    "\n",
    "    # Create list to store B values for each selected site\n",
    "    Ne_rescaled = [None] * L_total\n",
    "\n",
    "    # Iterate over focal selected sites\n",
    "    for x in range(0, L_total):\n",
    "\n",
    "        # Create list to store effect of interference on selected site\n",
    "        B_rescale_x = [None] * L_total\n",
    "\n",
    "        # For each focal site, calculate rescaling factor B\n",
    "        for l in range(0, L_total): \n",
    "\n",
    "            if l == x:\n",
    "                B_rescale_x[l] = 1 # Ignore the focal site\n",
    "            else:\n",
    "                B_rescale_x[l] = theory2.bgs_segment_sc16(mu, sh, L, rbp * abs(l - x), N)\n",
    "                \n",
    "        # Calculate B at focal site by multiplying times the effects of all other selected sites\n",
    "        Ne_rescaled[x] = numpy.prod(B_rescale_x) * N\n",
    "        \n",
    "    return Ne_rescaled"
   ]
  },
  {
   "cell_type": "code",
   "execution_count": null,
   "id": "4b3fa665-1142-43fb-a347-688455fb280d",
   "metadata": {},
   "outputs": [],
   "source": [
    "# Create function that calculates B', given B_rescaled, for a chromosomal segment\n",
    "def B_prime(L_total, L, R, mu, sh, N):\n",
    "\n",
    "    Ne_rescaled = Ne_rescale(L_total, L, R, mu, sh, N)[int(L_total/2):]\n",
    "\n",
    "    rbp = R / L_total # Assuming that r_bp is sufficiently small such that it is additive\n",
    "    \n",
    "    B_prime = [None] * int(L_total/2)\n",
    "\n",
    "    for l in range(1, int(L_total/2) + 1): # For each focal site, calculate rescaling factor B\n",
    "\n",
    "            B_prime[l - 1] = theory2.bgs_segment_sc16(mu, sh, L, rbp = rbp * l, N = Ne_rescaled[l - 1])\n",
    "\n",
    "    B_prime = numpy.prod(B_prime)**2\n",
    "\n",
    "    return B_prime"
   ]
  }
 ],
 "metadata": {
  "kernelspec": {
   "display_name": "Python 3 (ipykernel)",
   "language": "python",
   "name": "python3"
  },
  "language_info": {
   "codemirror_mode": {
    "name": "ipython",
    "version": 3
   },
   "file_extension": ".py",
   "mimetype": "text/x-python",
   "name": "python",
   "nbconvert_exporter": "python",
   "pygments_lexer": "ipython3",
   "version": "3.12.2"
  }
 },
 "nbformat": 4,
 "nbformat_minor": 5
}
