{
 "cells": [
  {
   "cell_type": "code",
   "execution_count": 1,
   "id": "09861d77-3187-4a8c-b6ea-6ad47bfbbe35",
   "metadata": {},
   "outputs": [],
   "source": [
    "import theory\n",
    "import theory2\n",
    "import numpy as np\n",
    "from scipy.optimize import fsolve\n",
    "from scipy.integrate import quad"
   ]
  },
  {
   "cell_type": "code",
   "execution_count": 2,
   "id": "f4b2348c-c142-4ded-b294-234d16304888",
   "metadata": {},
   "outputs": [
    {
     "name": "stdout",
     "output_type": "stream",
     "text": [
      "[0.916086532595388, 0.8253594492869389, 0.5874987490865565, 0.5970854458479206, 0.6701677572522149, 0.7279617812346616, 0.8242335308515455]\n"
     ]
    }
   ],
   "source": [
    "# Without accounting for interference\n",
    "\n",
    "B_values = [None] * 7\n",
    "\n",
    "sh = [0.0005, 0.001, 0.002, 0.005, 0.01, 0.015, 0.03]\n",
    "\n",
    "for i in range(0, 7):\n",
    "    B_values[i] = theory2.bgs_segment_sc16(mu = 1e-5, sh = sh[i], L = 700, rbp = 1.414e-05, N = 500, asymptotic = False)\n",
    "\n",
    "print(B_values)"
   ]
  },
  {
   "cell_type": "code",
   "execution_count": 2,
   "id": "11063dba-b5f4-45dc-ad8e-1cac462d77c1",
   "metadata": {},
   "outputs": [
    {
     "name": "stdout",
     "output_type": "stream",
     "text": [
      "[0.9863361424749594, 0.9738135477318951, 0.9269119545221016, 0.8833655276006175, 0.8630817044101933, 0.8631870099335949, 0.8838360440290389]\n",
      "[0.9864245211372732, 0.9741816150769701, 0.9274979250775806, 0.8846927266288958, 0.8645384754623678, 0.8643678108404033, 0.8843636893270357]\n"
     ]
    }
   ],
   "source": [
    "# Estimating B and accounting for interference using B(x)*N instead of N\n",
    "\n",
    "B_no_int = [None] * 7\n",
    "B_int = [None] * 7\n",
    "\n",
    "sh = [0.0005, 0.001, 0.002, 0.005, 0.01, 0.015, 0.03]\n",
    "N = 500\n",
    "\n",
    "for i in range(0, 7):\n",
    "    B_no_int[i] = theory2.bgs_segment_sc16_migration(mu = 1e-5, sh = sh[i], L = 700, m = 0.009, rbp = 1.414e-05, N = N, asymptotic = False, T_factor = 10)\n",
    "    B_int[i] = theory2.bgs_segment_sc16_migration(mu = 1e-5, sh = sh[i], L = 700, m = 0.009, rbp = 1.414e-05, N = B_no_int[i]*N, asymptotic = False, T_factor = 10)\n",
    "\n",
    "print(B_no_int)\n",
    "print(B_int)"
   ]
  },
  {
   "cell_type": "code",
   "execution_count": 3,
   "id": "b993efc3-8946-4960-82ff-edb48188479e",
   "metadata": {},
   "outputs": [
    {
     "name": "stdout",
     "output_type": "stream",
     "text": [
      "[0.7279617812346616, 0.7279617812346616, 0.7279617812346616, 0.7279617812346616, 0.7279617812346616, 0.7279617812346616, 0.7279617812346616]\n",
      "[0.736502910182809, 0.736502910182809, 0.736502910182809, 0.736502910182809, 0.736502910182809, 0.736502910182809, 0.736502910182809]\n"
     ]
    }
   ],
   "source": [
    "# Estimating B and accounting for interference using B(x)*N instead of N\n",
    "\n",
    "B_no_int = [None] * 7\n",
    "B_int = [None] * 7\n",
    "\n",
    "m = [0.001, 0.003, 0.01, 0.015, 0.02, 0.03, 0.05]\n",
    "N = 500\n",
    "\n",
    "for i in range(0, 7):\n",
    "    B_no_int[i] = theory2.bgs_segment_sc16_migration(mu = 1e-5, sh = 0.015, L = 700, m = 0, rbp = 1.414e-05, N = N, asymptotic = False, T_factor = 10)\n",
    "    B_int[i] = theory2.bgs_segment_sc16_migration(mu = 1e-5, sh = 0.015, L = 700, m = 0, rbp = 1.414e-05, N = B_no_int[i]*N, asymptotic = False, T_factor = 10)\n",
    "\n",
    "print(B_no_int)\n",
    "print(B_int)"
   ]
  },
  {
   "cell_type": "code",
   "execution_count": 42,
   "id": "92f496bc-0d72-4268-bae6-9bd5f3996b61",
   "metadata": {},
   "outputs": [
    {
     "name": "stdout",
     "output_type": "stream",
     "text": [
      "[0.9324377708065206, 0.9324377708065206]\n"
     ]
    }
   ],
   "source": [
    "# Sanity check for how Buffalo and Kern plotted Figure 1a\n",
    "\n",
    "L = 100000\n",
    "N = 1000\n",
    "r = 10**(-8)\n",
    "mu = 10**-(8.5)\n",
    "U = 2*L*mu\n",
    "sh = U*1\n",
    "\n",
    "#theory2.bgs_segment_sc16_test(mu = mu, sh = U, L = L, rbp = r, m = 0, N = N, asymptotic = False)\n",
    "B_test = theory2.bgs_segment_sc16_migration(mu = mu, sh = sh, L = L, rbp = r, m = 0, N = N, asymptotic = False)\n",
    "B = theory2.bgs_segment_sc16(mu = mu, sh = sh, L = L, rbp = r, N = N, asymptotic = False)\n",
    "\n",
    "print([B_test, B])"
   ]
  },
  {
   "cell_type": "code",
   "execution_count": 19,
   "id": "5391b709-92f3-4f53-8092-7772bc540f93",
   "metadata": {},
   "outputs": [
    {
     "name": "stdout",
     "output_type": "stream",
     "text": [
      "[0.3888653938286945, 0.3713090513520949, 0.39632526394292356, 0.4971897644009346, 0.6042159628701685, 0.6646843856759721, 0.7476654308051686]\n",
      "[0.4935010881198817, 0.4494697621982438, 0.4392949089002095, 0.5085918840093115, 0.6071703487977733, 0.6659105438634596, 0.7479186981650418]\n"
     ]
    }
   ],
   "source": [
    "# Estimating B and accounting for interference in metapop by using B(x)*N instead of N\n",
    "\n",
    "B_no_int = [None] * 7\n",
    "B_int = [None] * 7\n",
    "\n",
    "sh = [0.0005, 0.001, 0.002, 0.005, 0.01, 0.015, 0.03]\n",
    "global_N = global_N_bk_mInt_r\n",
    "\n",
    "for i in range(0, 7):\n",
    "    B_no_int[i] = theory2.bgs_segment_sc16_migration(mu = 1e-5, sh = sh[i], L = 700, m = 0, rbp = 1.414e-05, N = global_N[i], asymptotic = False, T_factor = 4)\n",
    "    B_int[i] = theory2.bgs_segment_sc16_migration(mu = 1e-5, sh = sh[i], L = 700, m = 0, rbp = 1.414e-05, N = B_no_int[i]*global_N[i], asymptotic = False, T_factor = 4)\n",
    "\n",
    "print(B_no_int)\n",
    "print(B_int)"
   ]
  },
  {
   "cell_type": "code",
   "execution_count": 18,
   "id": "96b9ac8e-1b19-44e1-a82b-75876ee3ecbf",
   "metadata": {},
   "outputs": [],
   "source": [
    "global_N_bk_mHigh_r0 = [5020, 5021, 5022, 5028, 5027, 5025, 5022]\n",
    "global_N_bk_mInt_r0 = [5236, 5252, 5266, 5333, 5315, 5296, 5266]\n",
    "global_N_bk_mLow_r0 = [9992, 10383, 10293, 12682, 12154, 11500, 10567]\n",
    "\n",
    "global_N_bk_mHigh_r = [5019, 5019, 5019, 5019, 5019, 5019, 5019]\n",
    "global_N_bk_mInt_r = [5224, 5227, 5238, 5250, 5256, 5256, 5250]\n",
    "global_N_bk_mLow_r = [9792, 10126, 10400, 11760, 11396, 11026, 10418]"
   ]
  }
 ],
 "metadata": {
  "kernelspec": {
   "display_name": "Python 3 (ipykernel)",
   "language": "python",
   "name": "python3"
  },
  "language_info": {
   "codemirror_mode": {
    "name": "ipython",
    "version": 3
   },
   "file_extension": ".py",
   "mimetype": "text/x-python",
   "name": "python",
   "nbconvert_exporter": "python",
   "pygments_lexer": "ipython3",
   "version": "3.12.2"
  }
 },
 "nbformat": 4,
 "nbformat_minor": 5
}
