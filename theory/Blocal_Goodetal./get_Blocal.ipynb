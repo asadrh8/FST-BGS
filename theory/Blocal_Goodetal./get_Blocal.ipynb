{
 "cells": [
  {
   "cell_type": "code",
   "execution_count": 2,
   "id": "8a5cb07f-1b62-4560-8c10-0cc63fc71451",
   "metadata": {},
   "outputs": [],
   "source": [
    "import coarse_grained_theory\n",
    "import recombination_theory\n",
    "import oskar_theory\n",
    "import math\n",
    "import corrections\n",
    "from math import exp,log,sqrt,pi"
   ]
  },
  {
   "cell_type": "code",
   "execution_count": 3,
   "id": "49f4c606-281f-4b17-bbd4-bf94b579c12d",
   "metadata": {},
   "outputs": [
    {
     "name": "stdout",
     "output_type": "stream",
     "text": [
      "Original parameters: 0.5 7.0 0\n",
      "Coarse-grained parameters: 2.454740500879547 0.42777428265916495 0\n",
      "0.9411336892113027\n"
     ]
    },
    {
     "name": "stderr",
     "output_type": "stream",
     "text": [
      "/Users/asad/Drive/Desktop/phd_ubc/projects/fst_bgs/Good_et_al_2014_pyscripts_migrationeffect/corrections.py:50: ComplexWarning: Casting complex values to real discards the imaginary part\n",
      "  guess = sqrt(2*var/lambertw(2*var)).real\n"
     ]
    }
   ],
   "source": [
    "# Asexual population\n",
    "\n",
    "N = 1000\n",
    "Ns = N * 0.0005\n",
    "NU = N * 1e-5 * 700\n",
    "NR = 0\n",
    "\n",
    "#Ns = 29.223103177848643\n",
    "#NU = 112.98702872914588\n",
    "#NR = 0\n",
    "\n",
    "# Calculate coarse-grained parameters\n",
    "Nseff,NUeff,NUneff = coarse_grained_theory.calculate_effective_params(Ns,NU,NR)\n",
    "\n",
    "print (\"Original parameters:\", Ns,NU,NR)\n",
    "print (\"Coarse-grained parameters:\", Nseff,NUeff,0)\n",
    "\n",
    "# Calculate B\n",
    "B = corrections.calculate_t2(Nseff,NUeff, 0)\n",
    "\n",
    "print(B)"
   ]
  },
  {
   "cell_type": "code",
   "execution_count": 77,
   "id": "d2d042ce-ce42-48a6-b5ec-d8b38b453dc7",
   "metadata": {},
   "outputs": [
    {
     "name": "stdout",
     "output_type": "stream",
     "text": [
      "Original parameters: 3.0 0.7000000000000001 0\n",
      "Coarse-grained parameters: 3.0 0.7000000000000001 0\n",
      "0.9060592728659255\n"
     ]
    }
   ],
   "source": [
    "# Asexual population with Mike's B (accounting for m)\n",
    "\n",
    "N = 100\n",
    "Ns = N * 0.03\n",
    "NU = N * 1e-5 * 700\n",
    "NR = 0\n",
    "Nm = N * 0.001\n",
    "\n",
    "#Ns = 29.223103177848643\n",
    "#NU = 112.98702872914588\n",
    "#NR = 0\n",
    "\n",
    "# Calculate coarse-grained parameters\n",
    "Nseff,NUeff,NUneff = coarse_grained_theory.calculate_effective_params(Ns,NU,NR)\n",
    "\n",
    "print (\"Original parameters:\", Ns,NU,NR)\n",
    "print (\"Coarse-grained parameters:\", Nseff,NUeff,0)\n",
    "\n",
    "# Calculate B\n",
    "B = corrections.calculate_t2_m(Nseff,NUeff, 0, Nm)\n",
    "\n",
    "print(B)"
   ]
  },
  {
   "cell_type": "code",
   "execution_count": 20,
   "id": "6e45b781-01a7-4354-8b9f-8a5899a5187c",
   "metadata": {},
   "outputs": [
    {
     "name": "stdout",
     "output_type": "stream",
     "text": [
      "Original parameters: 0.5 7.0 0\n",
      "Coarse-grained parameters: 2.454740500879547 0.42777428265916495 6.572225717340835\n",
      "Original parameters: 1 7.0 0\n",
      "Coarse-grained parameters: 2.7964688357328353 1.1860561028071084 5.813943897192892\n",
      "Original parameters: 2 7.0 0\n",
      "Coarse-grained parameters: 3.4916592462207103 2.8785743987824257 4.121425601217574\n",
      "Original parameters: 5 7.0 0\n",
      "Coarse-grained parameters: 5.0 7.0 0\n",
      "Original parameters: 10 7.0 0\n",
      "Coarse-grained parameters: 10.0 7.0 0\n",
      "Original parameters: 15 7.0 0\n",
      "Coarse-grained parameters: 15.0 7.0 0\n",
      "Original parameters: 30 7.0 0\n",
      "Coarse-grained parameters: 30.0 7.0 0\n",
      "[0.9727098377229091, 0.9170606443718708, 0.787082545441483, 0.5360606740450832, 0.5826103893776243, 0.6678210062030913, 0.8027715428502084]\n"
     ]
    }
   ],
   "source": [
    "# cgB no m, no r\n",
    "\n",
    "def calc_B(Ns, NU, NR):\n",
    "\n",
    "    # Get effective parameters to print\n",
    "    Nseff,NUeff,NReff = coarse_grained_theory.calculate_effective_params(Ns, NU, NR)\n",
    "\n",
    "    print (\"Original parameters:\", Ns,NU,NR)\n",
    "    print (\"Coarse-grained parameters:\", Nseff,NUeff, NReff)\n",
    "\n",
    "    # Calculate B\n",
    "    B = corrections.calculate_t2(Nseff, NUeff, NReff)\n",
    "\n",
    "    return(B)\n",
    "\n",
    "# Recombining population\n",
    "\n",
    "N = 1000\n",
    "NU = N * 1e-5 * 700\n",
    "NR = 0\n",
    "Ns = [0.5, 1, 2, 5, 10, 15, 30]\n",
    "\n",
    "\n",
    "B = []\n",
    "for i in range(len(Ns)):\n",
    "    B.append(calc_B(Ns[i], NU, NR))\n",
    "    \n",
    "print(B)"
   ]
  },
  {
   "cell_type": "code",
   "execution_count": 24,
   "id": "e3867157-5792-4204-94ce-b10c5805babe",
   "metadata": {},
   "outputs": [
    {
     "name": "stdout",
     "output_type": "stream",
     "text": [
      "Original parameters: 0.5 7.0 0\n",
      "Coarse-grained parameters: 2.454740500879547 0.42777428265916495 6.572225717340835\n",
      "Original parameters: 1 7.0 0\n",
      "Coarse-grained parameters: 2.7964688357328353 1.1860561028071084 5.813943897192892\n",
      "Original parameters: 2 7.0 0\n",
      "Coarse-grained parameters: 3.4916592462207103 2.8785743987824257 4.121425601217574\n",
      "Original parameters: 5 7.0 0\n",
      "Coarse-grained parameters: 5.0 7.0 0\n",
      "Original parameters: 10 7.0 0\n",
      "Coarse-grained parameters: 10.0 7.0 0\n",
      "Original parameters: 15 7.0 0\n",
      "Coarse-grained parameters: 15.0 7.0 0\n",
      "Original parameters: 30 7.0 0\n",
      "Coarse-grained parameters: 30.0 7.0 0\n",
      "[0.9783335668047128, 0.9317444099206262, 0.8150488205800788, 0.5644607374986734, 0.6067835486836118, 0.6827962636280012, 0.8079129382484328]\n"
     ]
    }
   ],
   "source": [
    "# cgB m > 0, no r\n",
    "\n",
    "def calc_B(Ns, NU, NR, Nm):\n",
    "\n",
    "    # Get effective parameters to print\n",
    "    Nseff,NUeff,NReff = coarse_grained_theory.calculate_effective_params(Ns, NU, NR)\n",
    "\n",
    "    print (\"Original parameters:\", Ns,NU,NR)\n",
    "    print (\"Coarse-grained parameters:\", Nseff,NUeff, NReff)\n",
    "\n",
    "    # Calculate B\n",
    "    B = corrections.calculate_t2_m(Nseff, NUeff, NReff, Nm)\n",
    "\n",
    "    return(B)\n",
    "\n",
    "# Recombining population\n",
    "\n",
    "N = 1000\n",
    "NU = N * 1e-5 * 700\n",
    "NR = 0\n",
    "Ns = [0.5, 1, 2, 5, 10, 15, 30]\n",
    "Nm = N*0.00045\n",
    "\n",
    "B = []\n",
    "for i in range(len(Ns)):\n",
    "    B.append(calc_B(Ns[i], NU, NR, Nm))\n",
    "    \n",
    "print(B)"
   ]
  },
  {
   "cell_type": "code",
   "execution_count": 21,
   "id": "defd9812-2b5c-43bf-862f-cfad8ce82bf5",
   "metadata": {},
   "outputs": [
    {
     "name": "stdout",
     "output_type": "stream",
     "text": [
      "Original parameters: 0.5 7.0 9.898\n",
      "Coarse-grained parameters: 2.325876009186027 0.15608808355542755 0\n",
      "Original parameters: 1 7.0 9.898\n",
      "Coarse-grained parameters: 2.4864281325593085 0.4958193506715822 0\n",
      "Original parameters: 2 7.0 9.898\n",
      "Coarse-grained parameters: 2.8983287140455154 1.422055879764702 0\n",
      "Original parameters: 5 7.0 9.898\n",
      "Coarse-grained parameters: 3.7273743733748845 3.492639723755079 0\n",
      "Original parameters: 10 7.0 9.898\n",
      "Coarse-grained parameters: 10.0 7.0 9.898\n",
      "Original parameters: 15 7.0 9.898\n",
      "Coarse-grained parameters: 15.0 7.0 9.898\n",
      "Original parameters: 30 7.0 9.898\n",
      "Coarse-grained parameters: 30.0 7.0 9.898\n",
      "[0.9775004474560725, 0.9325401616445476, 0.8323984524252939, 0.6823630732098136, 0.687370721901888, 0.7356980302943921, 0.8279235246860274]\n"
     ]
    }
   ],
   "source": [
    "# cgB no m, r > 0\n",
    "\n",
    "def calc_B(Ns, NU, NR):\n",
    "    # Calculate coarse-grained parameters\n",
    "    x = recombination_theory.calculate_asexual_fraction(Ns, NU, NR)\n",
    "\n",
    "    # Get effective parameters to print\n",
    "    Nseff,NUeff,NReff = recombination_theory.calculate_effective_params(Ns, NU, NR, x)\n",
    "\n",
    "    print (\"Original parameters:\", Ns,NU,NR)\n",
    "    print (\"Coarse-grained parameters:\", Nseff,NUeff, NReff)\n",
    "\n",
    "    # Calculate B\n",
    "\n",
    "    B = corrections.calculate_t2(Nseff, NUeff, NReff)\n",
    "\n",
    "    return(B)\n",
    "\n",
    "# Recombining population\n",
    "\n",
    "N = 1000\n",
    "NU = N * 1e-5 * 700\n",
    "NR = N * 1.414e-05 * 700\n",
    "Ns = [0.5, 1, 2, 5, 10, 15, 30]\n",
    "\n",
    "\n",
    "B = []\n",
    "for i in range(len(Ns)):\n",
    "    B.append(calc_B(Ns[i], NU, NR))\n",
    "    \n",
    "print(B)\n"
   ]
  },
  {
   "cell_type": "code",
   "execution_count": 28,
   "id": "76583289-c191-41ff-980d-3343a2ac6f17",
   "metadata": {
    "scrolled": true,
    "tags": []
   },
   "outputs": [
    {
     "name": "stdout",
     "output_type": "stream",
     "text": [
      "Original parameters: 0.5 7.0 9.898\n",
      "Coarse-grained parameters: 2.325876009186027 0.15608808355542755 0\n",
      "Original parameters: 1 7.0 9.898\n",
      "Coarse-grained parameters: 2.4864281325593085 0.4958193506715822 0\n",
      "Original parameters: 2 7.0 9.898\n",
      "Coarse-grained parameters: 2.8983287140455154 1.422055879764702 0\n",
      "Original parameters: 5 7.0 9.898\n",
      "Coarse-grained parameters: 3.7273743733748845 3.492639723755079 0\n",
      "Original parameters: 10 7.0 9.898\n",
      "Coarse-grained parameters: 10.0 7.0 9.898\n",
      "Original parameters: 15 7.0 9.898\n",
      "Coarse-grained parameters: 15.0 7.0 9.898\n",
      "Original parameters: 30 7.0 9.898\n",
      "Coarse-grained parameters: 30.0 7.0 9.898\n",
      "[0.9839308752130039, 0.9493939557472649, 0.8631209474429562, 0.7172496804228603, 0.7047214997935505, 0.7468492265206992, 0.8321689379366138]\n"
     ]
    }
   ],
   "source": [
    "# cg B, m > 0 and r > 0\n",
    "\n",
    "def calc_B(Ns, NU, NR, Nm):\n",
    "    # Calculate coarse-grained parameters\n",
    "    x = recombination_theory.calculate_asexual_fraction(Ns, NU, NR)\n",
    "\n",
    "    # Get effective parameters to print\n",
    "    Nseff,NUeff,NReff = recombination_theory.calculate_effective_params(Ns, NU, NR, x)\n",
    "\n",
    "    print (\"Original parameters:\", Ns,NU,NR)\n",
    "    print (\"Coarse-grained parameters:\", Nseff,NUeff, NReff)\n",
    "\n",
    "    # Calculate B\n",
    "\n",
    "    B = corrections.calculate_t2_m(Nseff, NUeff, NReff, Nm)\n",
    "\n",
    "    return(B)\n",
    "\n",
    "# Recombining population\n",
    "\n",
    "N = 1000\n",
    "NU = N * 1e-5 * 700\n",
    "NR = N * 1.414e-05 * 700\n",
    "Ns = [0.5, 1, 2, 5, 10, 15, 30]\n",
    "Nm = N*0.00045\n",
    "\n",
    "\n",
    "B = []\n",
    "for i in range(len(Ns)):\n",
    "    B.append(calc_B(Ns[i], NU, NR, Nm))\n",
    "    \n",
    "print(B)\n"
   ]
  },
  {
   "cell_type": "code",
   "execution_count": null,
   "id": "e5637f0c-4c9b-4ab5-8abd-b10713b9bf49",
   "metadata": {},
   "outputs": [],
   "source": [
    "# cgB no m, no r\n",
    "\n",
    "def calc_B(Ns, NU, NR):\n",
    "\n",
    "    # Get effective parameters to print\n",
    "    Nseff,NUeff,NReff = coarse_grained_theory.calculate_effective_params(Ns, NU, NR)\n",
    "\n",
    "    print (\"Original parameters:\", Ns,NU,NR)\n",
    "    print (\"Coarse-grained parameters:\", Nseff,NUeff, NReff)\n",
    "\n",
    "    # Calculate B\n",
    "    B = corrections.calculate_t2(Nseff, NUeff, NReff)\n",
    "\n",
    "    return(B)\n",
    "\n",
    "# Recombining population\n",
    "\n",
    "N = [5227.734, 5241.55\n",
    "NU = N * 1e-5 * 700\n",
    "NR = 0\n",
    "Ns = [0.5, 1, 2, 5, 10, 15, 30]\n",
    "\n",
    "\n",
    "B = []\n",
    "for i in range(len(Ns)):\n",
    "    B.append(calc_B(Ns[i], NU, NR))\n",
    "    \n",
    "print(B)"
   ]
  },
  {
   "cell_type": "code",
   "execution_count": 48,
   "id": "8d0cd871-f688-4f8f-9351-ebd48bc5cc06",
   "metadata": {},
   "outputs": [
    {
     "name": "stdout",
     "output_type": "stream",
     "text": [
      "[9.596, 19.650000000000002, 42.064, 129.66, 248.20000000000002, 347.55, 633.9]\n",
      "Original parameters: 9.596 134.344 0\n",
      "Coarse-grained parameters: 17.3654047322903 55.51836409190756 78.82563590809244\n",
      "Original parameters: 19.650000000000002 137.55 0\n",
      "Coarse-grained parameters: 26.818858227148453 100.78197502322921 36.7680249767708\n",
      "Original parameters: 42.064 147.224 0\n",
      "Coarse-grained parameters: 42.064 147.224 0\n",
      "Original parameters: 129.66 181.524 0\n",
      "Coarse-grained parameters: 129.66 181.524 0\n",
      "Original parameters: 248.20000000000002 173.74 0\n",
      "Coarse-grained parameters: 248.20000000000002 173.74 0\n",
      "Original parameters: 347.55 162.19 0\n",
      "Coarse-grained parameters: 347.55 162.19 0\n",
      "Original parameters: 633.9 147.91 0\n",
      "Coarse-grained parameters: 633.9 147.91 0\n",
      "[0.4405536368856925, 0.1796385461471528, 0.08795259546052198, 0.2577593775658343, 0.5000512621147865, 0.6288470447434936, 0.7924045675915581]\n"
     ]
    }
   ],
   "source": [
    "# cgB no m, no r, total diversity\n",
    "\n",
    "def calc_B(Ns, NU, NR):\n",
    "\n",
    "    # Get effective parameters to print\n",
    "    Nseff,NUeff,NReff = coarse_grained_theory.calculate_effective_params(Ns, NU, NR)\n",
    "\n",
    "    print (\"Original parameters:\", Ns,NU,NR)\n",
    "    print (\"Coarse-grained parameters:\", Nseff,NUeff, NReff)\n",
    "\n",
    "    # Calculate B\n",
    "    B = corrections.calculate_t2(Nseff, NUeff, NReff)\n",
    "\n",
    "    return(B)\n",
    "\n",
    "# Recombining population\n",
    "\n",
    "N = [9596*2, 9825*2, 10516*2, 12966*2, 12410*2, 11585*2, 10565*2]\n",
    "U = 1e-5 * 700\n",
    "NU = [i * U for i in N]\n",
    "NR = 0\n",
    "s = [0.0005, 0.001, 0.002, 0.005, 0.010, 0.015, 0.03]\n",
    "Ns = []\n",
    "for i in range(len(N)):\n",
    "    Ns.append(N[i] * s[i])\n",
    "\n",
    "print(Ns)\n",
    "\n",
    "\n",
    "\n",
    "B = []\n",
    "for i in range(len(Ns)):\n",
    "    B.append(calc_B(Ns[i], NU[i], NR))\n",
    "    \n",
    "print(B)"
   ]
  },
  {
   "cell_type": "code",
   "execution_count": 52,
   "id": "c2b87d16-cc65-462b-ae9a-39c7b1684b1a",
   "metadata": {},
   "outputs": [
    {
     "name": "stdout",
     "output_type": "stream",
     "text": [
      "Original parameters: 9.574 134.036 189.526904\n",
      "Coarse-grained parameters: 5.780016217862569 9.514144313611139 0\n",
      "Original parameters: 19.476 136.332 192.773448\n",
      "Coarse-grained parameters: 19.476 136.332 192.773448\n",
      "Original parameters: 40.84 142.94 202.11716\n",
      "Coarse-grained parameters: 40.84 142.94 202.11716\n",
      "Original parameters: 112.71000000000001 157.794 223.12071600000002\n",
      "Coarse-grained parameters: 112.71000000000001 157.794 223.12071600000002\n",
      "Original parameters: 227.56 159.292 225.238888\n",
      "Coarse-grained parameters: 227.56 159.292 225.238888\n",
      "Original parameters: 330.57 154.266 218.132124\n",
      "Coarse-grained parameters: 330.57 154.266 218.132124\n",
      "Original parameters: 624.24 145.656 205.95758400000003\n",
      "Coarse-grained parameters: 624.24 145.656 205.95758400000003\n",
      "[0.4713936586005259, 0.3741319424807559, 0.3932010988731043, 0.5024708656771494, 0.628784385567103, 0.7054935408012519, 0.8189451103551408]\n"
     ]
    }
   ],
   "source": [
    "# cg B, m = 0 and r > 0, total diversity\n",
    "\n",
    "def calc_B(Ns, NU, NR):\n",
    "    # Calculate coarse-grained parameters\n",
    "    x = recombination_theory.calculate_asexual_fraction(Ns, NU, NR)\n",
    "\n",
    "    # Get effective parameters to print\n",
    "    Nseff,NUeff,NReff = recombination_theory.calculate_effective_params(Ns, NU, NR, x)\n",
    "\n",
    "    print (\"Original parameters:\", Ns,NU,NR)\n",
    "    print (\"Coarse-grained parameters:\", Nseff,NUeff, NReff)\n",
    "\n",
    "    # Calculate B\n",
    "\n",
    "    B = corrections.calculate_t2(Nseff, NUeff, NReff)\n",
    "\n",
    "    return(B)\n",
    "\n",
    "# Recombining population\n",
    "\n",
    "N = [9574*2, 9738*2, 10210*2, 11271*2, 11378*2, 11019*2, 10404*2]\n",
    "U = 1e-5 * 700\n",
    "NU = [i * U for i in N]\n",
    "R = 1.414e-5 * 700\n",
    "NR = [i * R for i in N]\n",
    "s = [0.0005, 0.001, 0.002, 0.005, 0.010, 0.015, 0.03]\n",
    "Ns = []\n",
    "for i in range(len(N)):\n",
    "    Ns.append(N[i] * s[i])\n",
    "\n",
    "\n",
    "B = []\n",
    "for i in range(len(Ns)):\n",
    "    B.append(calc_B(Ns[i], NU[i], NR[i]))\n",
    "    \n",
    "print(B)\n"
   ]
  },
  {
   "cell_type": "code",
   "execution_count": 57,
   "id": "398cbb7b-8082-474b-8c2a-c0ce5f25c6e6",
   "metadata": {},
   "outputs": [
    {
     "name": "stdout",
     "output_type": "stream",
     "text": [
      "Original parameters: 10 300 300\n",
      "Coarse-grained parameters: 7.087215991868403 13.843950600941175 0\n",
      "0.3943512433462335\n"
     ]
    }
   ],
   "source": [
    "# Recombining population\n",
    "\n",
    "Ns = 10\n",
    "NU = 300\n",
    "NR = 300\n",
    "\n",
    "# Calculate coarse-grained parameters\n",
    "x = recombination_theory.calculate_asexual_fraction(Ns, NU, NR)\n",
    "\n",
    "# Get effective parameters to print\n",
    "Nseff,NUeff,NReff = recombination_theory.calculate_effective_params(Ns, NU, NR, x)\n",
    "\n",
    "print (\"Original parameters:\", Ns,NU,NR)\n",
    "print (\"Coarse-grained parameters:\", Nseff,NUeff, NReff)\n",
    "\n",
    "# Calculate B\n",
    "\n",
    "B = corrections.calculate_t2(Nseff, NUeff, NReff)\n",
    "\n",
    "print(B)"
   ]
  }
 ],
 "metadata": {
  "kernelspec": {
   "display_name": "Python 3 (ipykernel)",
   "language": "python",
   "name": "python3"
  },
  "language_info": {
   "codemirror_mode": {
    "name": "ipython",
    "version": 3
   },
   "file_extension": ".py",
   "mimetype": "text/x-python",
   "name": "python",
   "nbconvert_exporter": "python",
   "pygments_lexer": "ipython3",
   "version": "3.12.2"
  }
 },
 "nbformat": 4,
 "nbformat_minor": 5
}
